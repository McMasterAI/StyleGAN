{
 "cells": [
  {
   "cell_type": "markdown",
   "metadata": {},
   "source": [
    "# Style GAN\n"
   ]
  },
  {
   "cell_type": "markdown",
   "metadata": {},
   "source": [
    "This notebook implements a Style Transfer GAN that generates paintings."
   ]
  },
  {
   "cell_type": "code",
   "execution_count": 11,
   "metadata": {},
   "outputs": [],
   "source": [
    "import tensorflow as tf\n",
    "from tensorflow import keras\n",
    "from tensorflow.keras import layers\n",
    "import tensorflow_addons as tfa\n",
    "\n",
    "import matplotlib.pyplot as plt\n",
    "import numpy as np"
   ]
  },
  {
   "cell_type": "markdown",
   "metadata": {},
   "source": [
    "# Data Loading"
   ]
  },
  {
   "cell_type": "markdown",
   "metadata": {},
   "source": [
    "First, be sure to go to your Kaggle profile and create an API token. Make sure it's in your .kaggle folder. Also, you must join this competition to accept the terms and conditions before you can download the data: https://www.kaggle.com/c/gan-getting-started/data"
   ]
  },
  {
   "cell_type": "markdown",
   "metadata": {},
   "source": [
    "Install the required dependencies:"
   ]
  },
  {
   "cell_type": "code",
   "execution_count": 10,
   "metadata": {
    "scrolled": true
   },
   "outputs": [
    {
     "name": "stdout",
     "output_type": "stream",
     "text": [
      "Requirement already satisfied: h5py==2.10.0 in c:\\users\\sadeg\\anaconda3\\lib\\site-packages (from -r ../setup/requirements.txt (line 1)) (2.10.0)\n",
      "Requirement already satisfied: ipykernel==5.4.2 in c:\\users\\sadeg\\anaconda3\\lib\\site-packages (from -r ../setup/requirements.txt (line 2)) (5.4.2)\n",
      "Requirement already satisfied: keras==2.4.0 in c:\\users\\sadeg\\anaconda3\\lib\\site-packages (from -r ../setup/requirements.txt (line 3)) (2.4.0)\n",
      "Requirement already satisfied: matplotlib==3.3.0 in c:\\users\\sadeg\\anaconda3\\lib\\site-packages (from -r ../setup/requirements.txt (line 4)) (3.3.0)\n",
      "Requirement already satisfied: numpy==1.19.2 in c:\\users\\sadeg\\anaconda3\\lib\\site-packages (from -r ../setup/requirements.txt (line 5)) (1.19.2)\n",
      "Requirement already satisfied: pandas==1.1.0 in c:\\users\\sadeg\\anaconda3\\lib\\site-packages (from -r ../setup/requirements.txt (line 6)) (1.1.0)\n",
      "Requirement already satisfied: pylint==2.5.3 in c:\\users\\sadeg\\anaconda3\\lib\\site-packages (from -r ../setup/requirements.txt (line 7)) (2.5.3)\n",
      "Requirement already satisfied: scikit-learn==0.24.0 in c:\\users\\sadeg\\anaconda3\\lib\\site-packages (from -r ../setup/requirements.txt (line 8)) (0.24.0)\n",
      "Requirement already satisfied: scipy==1.5.2 in c:\\users\\sadeg\\anaconda3\\lib\\site-packages (from -r ../setup/requirements.txt (line 9)) (1.5.2)\n",
      "Requirement already satisfied: tensorflow==2.4.1 in c:\\users\\sadeg\\anaconda3\\lib\\site-packages (from -r ../setup/requirements.txt (line 10)) (2.4.1)\n",
      "Requirement already satisfied: tensorflow-addons==0.12.0 in c:\\users\\sadeg\\anaconda3\\lib\\site-packages (from -r ../setup/requirements.txt (line 11)) (0.12.0)\n",
      "Requirement already satisfied: six in c:\\users\\sadeg\\anaconda3\\lib\\site-packages (from h5py==2.10.0->-r ../setup/requirements.txt (line 1)) (1.15.0)\n",
      "Requirement already satisfied: ipython>=5.0.0 in c:\\users\\sadeg\\anaconda3\\lib\\site-packages (from ipykernel==5.4.2->-r ../setup/requirements.txt (line 2)) (7.19.0)\n",
      "Requirement already satisfied: traitlets>=4.1.0 in c:\\users\\sadeg\\anaconda3\\lib\\site-packages (from ipykernel==5.4.2->-r ../setup/requirements.txt (line 2)) (5.0.5)\n",
      "Requirement already satisfied: jupyter-client in c:\\users\\sadeg\\anaconda3\\lib\\site-packages (from ipykernel==5.4.2->-r ../setup/requirements.txt (line 2)) (6.1.7)\n",
      "Requirement already satisfied: tornado>=4.2 in c:\\users\\sadeg\\anaconda3\\lib\\site-packages (from ipykernel==5.4.2->-r ../setup/requirements.txt (line 2)) (6.0.4)\n",
      "Requirement already satisfied: pyyaml in c:\\users\\sadeg\\anaconda3\\lib\\site-packages (from keras==2.4.0->-r ../setup/requirements.txt (line 3)) (5.3.1)\n",
      "Requirement already satisfied: cycler>=0.10 in c:\\users\\sadeg\\anaconda3\\lib\\site-packages (from matplotlib==3.3.0->-r ../setup/requirements.txt (line 4)) (0.10.0)\n",
      "Requirement already satisfied: pyparsing!=2.0.4,!=2.1.2,!=2.1.6,>=2.0.3 in c:\\users\\sadeg\\anaconda3\\lib\\site-packages (from matplotlib==3.3.0->-r ../setup/requirements.txt (line 4)) (2.4.7)\n",
      "Requirement already satisfied: python-dateutil>=2.1 in c:\\users\\sadeg\\anaconda3\\lib\\site-packages (from matplotlib==3.3.0->-r ../setup/requirements.txt (line 4)) (2.8.1)\n",
      "Requirement already satisfied: kiwisolver>=1.0.1 in c:\\users\\sadeg\\anaconda3\\lib\\site-packages (from matplotlib==3.3.0->-r ../setup/requirements.txt (line 4)) (1.3.0)\n",
      "Requirement already satisfied: pillow>=6.2.0 in c:\\users\\sadeg\\anaconda3\\lib\\site-packages (from matplotlib==3.3.0->-r ../setup/requirements.txt (line 4)) (8.0.1)\n",
      "Requirement already satisfied: pytz>=2017.2 in c:\\users\\sadeg\\anaconda3\\lib\\site-packages (from pandas==1.1.0->-r ../setup/requirements.txt (line 6)) (2020.1)\n",
      "Requirement already satisfied: toml>=0.7.1 in c:\\users\\sadeg\\anaconda3\\lib\\site-packages (from pylint==2.5.3->-r ../setup/requirements.txt (line 7)) (0.10.1)\n",
      "Requirement already satisfied: astroid<=2.5,>=2.4.0 in c:\\users\\sadeg\\anaconda3\\lib\\site-packages (from pylint==2.5.3->-r ../setup/requirements.txt (line 7)) (2.4.2)\n",
      "Requirement already satisfied: mccabe<0.7,>=0.6 in c:\\users\\sadeg\\anaconda3\\lib\\site-packages (from pylint==2.5.3->-r ../setup/requirements.txt (line 7)) (0.6.1)\n",
      "Requirement already satisfied: isort<5,>=4.2.5 in c:\\users\\sadeg\\anaconda3\\lib\\site-packages (from pylint==2.5.3->-r ../setup/requirements.txt (line 7)) (4.3.21)\n",
      "Requirement already satisfied: colorama; sys_platform == \"win32\" in c:\\users\\sadeg\\anaconda3\\lib\\site-packages (from pylint==2.5.3->-r ../setup/requirements.txt (line 7)) (0.4.4)\n",
      "Requirement already satisfied: joblib>=0.11 in c:\\users\\sadeg\\anaconda3\\lib\\site-packages (from scikit-learn==0.24.0->-r ../setup/requirements.txt (line 8)) (0.17.0)\n",
      "Requirement already satisfied: threadpoolctl>=2.0.0 in c:\\users\\sadeg\\anaconda3\\lib\\site-packages (from scikit-learn==0.24.0->-r ../setup/requirements.txt (line 8)) (2.1.0)\n",
      "Requirement already satisfied: flatbuffers~=1.12.0 in c:\\users\\sadeg\\anaconda3\\lib\\site-packages (from tensorflow==2.4.1->-r ../setup/requirements.txt (line 10)) (1.12)\n",
      "Requirement already satisfied: wheel~=0.35 in c:\\users\\sadeg\\anaconda3\\lib\\site-packages (from tensorflow==2.4.1->-r ../setup/requirements.txt (line 10)) (0.35.1)\n",
      "Requirement already satisfied: gast==0.3.3 in c:\\users\\sadeg\\anaconda3\\lib\\site-packages (from tensorflow==2.4.1->-r ../setup/requirements.txt (line 10)) (0.3.3)\n",
      "Requirement already satisfied: keras-preprocessing~=1.1.2 in c:\\users\\sadeg\\anaconda3\\lib\\site-packages (from tensorflow==2.4.1->-r ../setup/requirements.txt (line 10)) (1.1.2)\n",
      "Requirement already satisfied: typing-extensions~=3.7.4 in c:\\users\\sadeg\\anaconda3\\lib\\site-packages (from tensorflow==2.4.1->-r ../setup/requirements.txt (line 10)) (3.7.4.3)\n",
      "Requirement already satisfied: opt-einsum~=3.3.0 in c:\\users\\sadeg\\anaconda3\\lib\\site-packages (from tensorflow==2.4.1->-r ../setup/requirements.txt (line 10)) (3.3.0)\n",
      "Requirement already satisfied: tensorboard~=2.4 in c:\\users\\sadeg\\anaconda3\\lib\\site-packages (from tensorflow==2.4.1->-r ../setup/requirements.txt (line 10)) (2.4.1)\n",
      "Requirement already satisfied: tensorflow-estimator<2.5.0,>=2.4.0 in c:\\users\\sadeg\\anaconda3\\lib\\site-packages (from tensorflow==2.4.1->-r ../setup/requirements.txt (line 10)) (2.4.0)\n",
      "Requirement already satisfied: absl-py~=0.10 in c:\\users\\sadeg\\anaconda3\\lib\\site-packages (from tensorflow==2.4.1->-r ../setup/requirements.txt (line 10)) (0.11.0)\n",
      "Requirement already satisfied: protobuf>=3.9.2 in c:\\users\\sadeg\\anaconda3\\lib\\site-packages (from tensorflow==2.4.1->-r ../setup/requirements.txt (line 10)) (3.14.0)\n",
      "Requirement already satisfied: termcolor~=1.1.0 in c:\\users\\sadeg\\anaconda3\\lib\\site-packages (from tensorflow==2.4.1->-r ../setup/requirements.txt (line 10)) (1.1.0)\n",
      "Requirement already satisfied: wrapt~=1.12.1 in c:\\users\\sadeg\\anaconda3\\lib\\site-packages (from tensorflow==2.4.1->-r ../setup/requirements.txt (line 10)) (1.12.1)\n",
      "Requirement already satisfied: astunparse~=1.6.3 in c:\\users\\sadeg\\anaconda3\\lib\\site-packages (from tensorflow==2.4.1->-r ../setup/requirements.txt (line 10)) (1.6.3)\n",
      "Requirement already satisfied: grpcio~=1.32.0 in c:\\users\\sadeg\\anaconda3\\lib\\site-packages (from tensorflow==2.4.1->-r ../setup/requirements.txt (line 10)) (1.32.0)\n",
      "Requirement already satisfied: google-pasta~=0.2 in c:\\users\\sadeg\\anaconda3\\lib\\site-packages (from tensorflow==2.4.1->-r ../setup/requirements.txt (line 10)) (0.2.0)\n",
      "Requirement already satisfied: typeguard>=2.7 in c:\\users\\sadeg\\anaconda3\\lib\\site-packages (from tensorflow-addons==0.12.0->-r ../setup/requirements.txt (line 11)) (2.10.0)\n",
      "Requirement already satisfied: prompt-toolkit!=3.0.0,!=3.0.1,<3.1.0,>=2.0.0 in c:\\users\\sadeg\\anaconda3\\lib\\site-packages (from ipython>=5.0.0->ipykernel==5.4.2->-r ../setup/requirements.txt (line 2)) (3.0.8)\n",
      "Requirement already satisfied: backcall in c:\\users\\sadeg\\anaconda3\\lib\\site-packages (from ipython>=5.0.0->ipykernel==5.4.2->-r ../setup/requirements.txt (line 2)) (0.2.0)\n",
      "Requirement already satisfied: decorator in c:\\users\\sadeg\\anaconda3\\lib\\site-packages (from ipython>=5.0.0->ipykernel==5.4.2->-r ../setup/requirements.txt (line 2)) (4.4.2)\n",
      "Requirement already satisfied: jedi>=0.10 in c:\\users\\sadeg\\anaconda3\\lib\\site-packages (from ipython>=5.0.0->ipykernel==5.4.2->-r ../setup/requirements.txt (line 2)) (0.17.1)\n",
      "Requirement already satisfied: pygments in c:\\users\\sadeg\\anaconda3\\lib\\site-packages (from ipython>=5.0.0->ipykernel==5.4.2->-r ../setup/requirements.txt (line 2)) (2.7.2)\n",
      "Requirement already satisfied: setuptools>=18.5 in c:\\users\\sadeg\\anaconda3\\lib\\site-packages (from ipython>=5.0.0->ipykernel==5.4.2->-r ../setup/requirements.txt (line 2)) (50.3.1.post20201107)\n",
      "Requirement already satisfied: pickleshare in c:\\users\\sadeg\\anaconda3\\lib\\site-packages (from ipython>=5.0.0->ipykernel==5.4.2->-r ../setup/requirements.txt (line 2)) (0.7.5)\n",
      "Requirement already satisfied: ipython-genutils in c:\\users\\sadeg\\anaconda3\\lib\\site-packages (from traitlets>=4.1.0->ipykernel==5.4.2->-r ../setup/requirements.txt (line 2)) (0.2.0)\n",
      "Requirement already satisfied: jupyter-core>=4.6.0 in c:\\users\\sadeg\\anaconda3\\lib\\site-packages (from jupyter-client->ipykernel==5.4.2->-r ../setup/requirements.txt (line 2)) (4.6.3)\n",
      "Requirement already satisfied: pyzmq>=13 in c:\\users\\sadeg\\anaconda3\\lib\\site-packages (from jupyter-client->ipykernel==5.4.2->-r ../setup/requirements.txt (line 2)) (19.0.2)\n",
      "Requirement already satisfied: lazy-object-proxy==1.4.* in c:\\users\\sadeg\\anaconda3\\lib\\site-packages (from astroid<=2.5,>=2.4.0->pylint==2.5.3->-r ../setup/requirements.txt (line 7)) (1.4.3)\n",
      "Requirement already satisfied: requests<3,>=2.21.0 in c:\\users\\sadeg\\anaconda3\\lib\\site-packages (from tensorboard~=2.4->tensorflow==2.4.1->-r ../setup/requirements.txt (line 10)) (2.24.0)\n",
      "Requirement already satisfied: tensorboard-plugin-wit>=1.6.0 in c:\\users\\sadeg\\anaconda3\\lib\\site-packages (from tensorboard~=2.4->tensorflow==2.4.1->-r ../setup/requirements.txt (line 10)) (1.8.0)\n",
      "Requirement already satisfied: markdown>=2.6.8 in c:\\users\\sadeg\\anaconda3\\lib\\site-packages (from tensorboard~=2.4->tensorflow==2.4.1->-r ../setup/requirements.txt (line 10)) (3.3.3)\n",
      "Requirement already satisfied: google-auth<2,>=1.6.3 in c:\\users\\sadeg\\anaconda3\\lib\\site-packages (from tensorboard~=2.4->tensorflow==2.4.1->-r ../setup/requirements.txt (line 10)) (1.25.0)\n",
      "Requirement already satisfied: werkzeug>=0.11.15 in c:\\users\\sadeg\\anaconda3\\lib\\site-packages (from tensorboard~=2.4->tensorflow==2.4.1->-r ../setup/requirements.txt (line 10)) (1.0.1)\n",
      "Requirement already satisfied: google-auth-oauthlib<0.5,>=0.4.1 in c:\\users\\sadeg\\anaconda3\\lib\\site-packages (from tensorboard~=2.4->tensorflow==2.4.1->-r ../setup/requirements.txt (line 10)) (0.4.2)\n",
      "Requirement already satisfied: wcwidth in c:\\users\\sadeg\\anaconda3\\lib\\site-packages (from prompt-toolkit!=3.0.0,!=3.0.1,<3.1.0,>=2.0.0->ipython>=5.0.0->ipykernel==5.4.2->-r ../setup/requirements.txt (line 2)) (0.2.5)\n",
      "Requirement already satisfied: parso<0.8.0,>=0.7.0 in c:\\users\\sadeg\\anaconda3\\lib\\site-packages (from jedi>=0.10->ipython>=5.0.0->ipykernel==5.4.2->-r ../setup/requirements.txt (line 2)) (0.7.0)\n",
      "Requirement already satisfied: pywin32>=1.0; sys_platform == \"win32\" in c:\\users\\sadeg\\anaconda3\\lib\\site-packages (from jupyter-core>=4.6.0->jupyter-client->ipykernel==5.4.2->-r ../setup/requirements.txt (line 2)) (227)\n",
      "Requirement already satisfied: chardet<4,>=3.0.2 in c:\\users\\sadeg\\anaconda3\\lib\\site-packages (from requests<3,>=2.21.0->tensorboard~=2.4->tensorflow==2.4.1->-r ../setup/requirements.txt (line 10)) (3.0.4)\n",
      "Requirement already satisfied: idna<3,>=2.5 in c:\\users\\sadeg\\anaconda3\\lib\\site-packages (from requests<3,>=2.21.0->tensorboard~=2.4->tensorflow==2.4.1->-r ../setup/requirements.txt (line 10)) (2.10)\n",
      "Requirement already satisfied: urllib3!=1.25.0,!=1.25.1,<1.26,>=1.21.1 in c:\\users\\sadeg\\anaconda3\\lib\\site-packages (from requests<3,>=2.21.0->tensorboard~=2.4->tensorflow==2.4.1->-r ../setup/requirements.txt (line 10)) (1.25.11)\n",
      "Requirement already satisfied: certifi>=2017.4.17 in c:\\users\\sadeg\\anaconda3\\lib\\site-packages (from requests<3,>=2.21.0->tensorboard~=2.4->tensorflow==2.4.1->-r ../setup/requirements.txt (line 10)) (2020.6.20)\n",
      "Requirement already satisfied: cachetools<5.0,>=2.0.0 in c:\\users\\sadeg\\anaconda3\\lib\\site-packages (from google-auth<2,>=1.6.3->tensorboard~=2.4->tensorflow==2.4.1->-r ../setup/requirements.txt (line 10)) (4.2.1)\n",
      "Requirement already satisfied: pyasn1-modules>=0.2.1 in c:\\users\\sadeg\\anaconda3\\lib\\site-packages (from google-auth<2,>=1.6.3->tensorboard~=2.4->tensorflow==2.4.1->-r ../setup/requirements.txt (line 10)) (0.2.8)\n",
      "Requirement already satisfied: rsa<5,>=3.1.4; python_version >= \"3.6\" in c:\\users\\sadeg\\anaconda3\\lib\\site-packages (from google-auth<2,>=1.6.3->tensorboard~=2.4->tensorflow==2.4.1->-r ../setup/requirements.txt (line 10)) (4.7)\n",
      "Requirement already satisfied: requests-oauthlib>=0.7.0 in c:\\users\\sadeg\\anaconda3\\lib\\site-packages (from google-auth-oauthlib<0.5,>=0.4.1->tensorboard~=2.4->tensorflow==2.4.1->-r ../setup/requirements.txt (line 10)) (1.3.0)\n",
      "Requirement already satisfied: pyasn1<0.5.0,>=0.4.6 in c:\\users\\sadeg\\anaconda3\\lib\\site-packages (from pyasn1-modules>=0.2.1->google-auth<2,>=1.6.3->tensorboard~=2.4->tensorflow==2.4.1->-r ../setup/requirements.txt (line 10)) (0.4.8)\n",
      "Requirement already satisfied: oauthlib>=3.0.0 in c:\\users\\sadeg\\anaconda3\\lib\\site-packages (from requests-oauthlib>=0.7.0->google-auth-oauthlib<0.5,>=0.4.1->tensorboard~=2.4->tensorflow==2.4.1->-r ../setup/requirements.txt (line 10)) (3.1.0)\n",
      "Note: you may need to restart the kernel to use updated packages.\n"
     ]
    }
   ],
   "source": [
    "pip install -r ../setup/requirements.txt"
   ]
  },
  {
   "cell_type": "markdown",
   "metadata": {},
   "source": [
    "Import modules necessary for data loading, and authenticate with Kaggle using your kaggle.json file:"
   ]
  },
  {
   "cell_type": "code",
   "execution_count": 5,
   "metadata": {
    "scrolled": false
   },
   "outputs": [],
   "source": [
    "import kaggle, os, zipfile\n",
    "kaggle.api.authenticate()"
   ]
  },
  {
   "cell_type": "markdown",
   "metadata": {},
   "source": [
    "Download the zipped image data from the kaggle competition and unzip the folder:"
   ]
  },
  {
   "cell_type": "code",
   "execution_count": 19,
   "metadata": {},
   "outputs": [
    {
     "name": "stderr",
     "output_type": "stream",
     "text": [
      "\n",
      "  0%|          | 0.00/367M [00:00<?, ?B/s]\n",
      "  0%|          | 1.00M/367M [00:00<00:45, 8.38MB/s]\n",
      "  1%|          | 3.00M/367M [00:00<00:42, 8.99MB/s]\n",
      "  1%|1         | 5.00M/367M [00:00<00:35, 10.8MB/s]\n",
      "  2%|1         | 7.00M/367M [00:00<00:32, 11.6MB/s]\n",
      "  2%|2         | 9.00M/367M [00:00<00:32, 11.7MB/s]\n",
      "  3%|2         | 11.0M/367M [00:00<00:28, 13.2MB/s]\n",
      "  4%|3         | 13.0M/367M [00:00<00:27, 13.7MB/s]\n",
      "  4%|4         | 15.0M/367M [00:01<00:28, 13.0MB/s]\n",
      "  5%|4         | 17.0M/367M [00:01<00:27, 13.5MB/s]\n",
      "  5%|5         | 19.0M/367M [00:01<00:26, 14.0MB/s]\n",
      "  6%|5         | 21.0M/367M [00:01<00:25, 14.5MB/s]\n",
      "  6%|6         | 23.0M/367M [00:01<00:24, 14.7MB/s]\n",
      "  7%|6         | 25.0M/367M [00:01<00:24, 14.4MB/s]\n",
      "  7%|7         | 27.0M/367M [00:02<00:24, 14.5MB/s]\n",
      "  8%|7         | 29.0M/367M [00:02<00:23, 14.9MB/s]\n",
      "  8%|8         | 31.0M/367M [00:02<00:23, 15.0MB/s]\n",
      "  9%|8         | 33.0M/367M [00:02<00:23, 15.2MB/s]\n",
      " 10%|9         | 35.0M/367M [00:02<00:23, 14.9MB/s]\n",
      " 10%|#         | 37.0M/367M [00:02<00:22, 15.1MB/s]\n",
      " 11%|#         | 39.0M/367M [00:02<00:22, 15.2MB/s]\n",
      " 11%|#1        | 41.0M/367M [00:03<00:23, 14.6MB/s]\n",
      " 12%|#1        | 43.0M/367M [00:03<00:22, 15.3MB/s]\n",
      " 12%|#2        | 45.0M/367M [00:03<00:22, 15.2MB/s]\n",
      " 13%|#2        | 47.0M/367M [00:03<00:21, 15.3MB/s]\n",
      " 13%|#3        | 49.0M/367M [00:03<00:22, 15.1MB/s]\n",
      " 14%|#3        | 51.0M/367M [00:03<00:22, 15.0MB/s]\n",
      " 14%|#4        | 53.0M/367M [00:03<00:21, 15.3MB/s]\n",
      " 15%|#4        | 55.0M/367M [00:03<00:21, 15.1MB/s]\n",
      " 16%|#5        | 57.0M/367M [00:04<00:21, 15.2MB/s]\n",
      " 16%|#6        | 59.0M/367M [00:04<00:21, 15.3MB/s]\n",
      " 17%|#6        | 61.0M/367M [00:04<00:20, 15.4MB/s]\n",
      " 17%|#7        | 63.0M/367M [00:04<00:20, 15.3MB/s]\n",
      " 18%|#7        | 65.0M/367M [00:04<00:21, 15.0MB/s]\n",
      " 18%|#8        | 67.0M/367M [00:04<00:20, 15.4MB/s]\n",
      " 19%|#8        | 69.0M/367M [00:04<00:20, 15.1MB/s]\n",
      " 19%|#9        | 71.0M/367M [00:05<00:23, 13.4MB/s]\n",
      " 20%|#9        | 73.0M/367M [00:05<00:27, 11.3MB/s]\n",
      " 20%|##        | 75.0M/367M [00:05<00:25, 11.9MB/s]\n",
      " 21%|##        | 77.0M/367M [00:05<00:23, 12.8MB/s]\n",
      " 22%|##1       | 79.0M/367M [00:05<00:22, 13.5MB/s]\n",
      " 22%|##2       | 81.0M/367M [00:05<00:21, 14.0MB/s]\n",
      " 23%|##2       | 83.0M/367M [00:06<00:20, 14.3MB/s]\n",
      " 23%|##3       | 85.0M/367M [00:06<00:20, 14.7MB/s]\n",
      " 24%|##3       | 87.0M/367M [00:06<00:20, 14.4MB/s]\n",
      " 24%|##4       | 89.0M/367M [00:06<00:20, 14.5MB/s]\n",
      " 25%|##4       | 91.0M/367M [00:06<00:20, 14.0MB/s]\n",
      " 25%|##5       | 93.0M/367M [00:06<00:20, 13.7MB/s]\n",
      " 26%|##5       | 95.0M/367M [00:06<00:20, 13.7MB/s]\n",
      " 26%|##6       | 97.0M/367M [00:07<00:20, 14.1MB/s]\n",
      " 27%|##6       | 99.0M/367M [00:07<00:19, 14.4MB/s]\n",
      " 28%|##7       | 101M/367M [00:07<00:18, 14.7MB/s] \n",
      " 28%|##8       | 103M/367M [00:07<00:18, 15.0MB/s]\n",
      " 29%|##8       | 105M/367M [00:07<00:18, 14.7MB/s]\n",
      " 29%|##9       | 107M/367M [00:07<00:18, 14.7MB/s]\n",
      " 30%|##9       | 109M/367M [00:07<00:19, 14.2MB/s]\n",
      " 30%|###       | 111M/367M [00:08<00:17, 15.1MB/s]\n",
      " 31%|###       | 113M/367M [00:08<00:17, 15.0MB/s]\n",
      " 31%|###1      | 115M/367M [00:08<00:18, 14.5MB/s]\n",
      " 32%|###1      | 117M/367M [00:08<00:17, 14.8MB/s]\n",
      " 32%|###2      | 119M/367M [00:08<00:18, 13.8MB/s]\n",
      " 33%|###2      | 121M/367M [00:08<00:17, 14.8MB/s]\n",
      " 34%|###3      | 123M/367M [00:08<00:17, 14.3MB/s]\n",
      " 34%|###4      | 125M/367M [00:09<00:18, 14.1MB/s]\n",
      " 35%|###4      | 127M/367M [00:09<00:19, 13.2MB/s]\n",
      " 35%|###5      | 129M/367M [00:09<00:17, 14.6MB/s]\n",
      " 36%|###5      | 131M/367M [00:09<00:16, 14.8MB/s]\n",
      " 36%|###6      | 133M/367M [00:09<00:17, 14.2MB/s]\n",
      " 37%|###6      | 135M/367M [00:09<00:17, 13.8MB/s]\n",
      " 37%|###7      | 137M/367M [00:10<00:16, 14.7MB/s]\n",
      " 38%|###7      | 139M/367M [00:10<00:16, 14.6MB/s]\n",
      " 38%|###8      | 141M/367M [00:10<00:16, 14.6MB/s]\n",
      " 39%|###8      | 143M/367M [00:10<00:15, 14.8MB/s]\n",
      " 40%|###9      | 145M/367M [00:10<00:15, 14.9MB/s]\n",
      " 40%|####      | 147M/367M [00:10<00:16, 13.9MB/s]\n",
      " 41%|####      | 149M/367M [00:10<00:16, 14.0MB/s]\n",
      " 41%|####1     | 151M/367M [00:11<00:15, 14.4MB/s]\n",
      " 42%|####1     | 153M/367M [00:11<00:15, 14.6MB/s]\n",
      " 42%|####2     | 155M/367M [00:11<00:14, 14.8MB/s]\n",
      " 43%|####2     | 157M/367M [00:11<00:14, 15.1MB/s]\n",
      " 43%|####3     | 159M/367M [00:11<00:14, 15.1MB/s]\n",
      " 44%|####3     | 161M/367M [00:11<00:14, 15.2MB/s]\n",
      " 44%|####4     | 163M/367M [00:11<00:14, 15.1MB/s]\n",
      " 45%|####4     | 165M/367M [00:11<00:13, 15.2MB/s]\n",
      " 46%|####5     | 167M/367M [00:12<00:14, 14.8MB/s]\n",
      " 46%|####6     | 169M/367M [00:12<00:13, 14.9MB/s]\n",
      " 47%|####6     | 171M/367M [00:12<00:13, 15.1MB/s]\n",
      " 47%|####7     | 173M/367M [00:12<00:13, 14.8MB/s]\n",
      " 48%|####7     | 175M/367M [00:12<00:14, 14.2MB/s]\n",
      " 48%|####8     | 177M/367M [00:12<00:13, 15.1MB/s]\n",
      " 49%|####8     | 179M/367M [00:12<00:12, 15.2MB/s]\n",
      " 49%|####9     | 181M/367M [00:13<00:13, 15.0MB/s]\n",
      " 50%|####9     | 183M/367M [00:13<00:13, 14.4MB/s]\n",
      " 50%|#####     | 185M/367M [00:13<00:12, 14.9MB/s]\n",
      " 51%|#####     | 187M/367M [00:13<00:12, 14.6MB/s]\n",
      " 52%|#####1    | 189M/367M [00:13<00:13, 13.7MB/s]\n",
      " 52%|#####2    | 191M/367M [00:14<00:16, 11.0MB/s]\n",
      " 53%|#####2    | 193M/367M [00:14<00:16, 11.3MB/s]\n",
      " 53%|#####3    | 195M/367M [00:14<00:14, 12.0MB/s]\n",
      " 54%|#####3    | 197M/367M [00:14<00:14, 12.3MB/s]\n",
      " 54%|#####4    | 199M/367M [00:14<00:13, 13.1MB/s]\n",
      " 55%|#####4    | 201M/367M [00:14<00:13, 13.4MB/s]\n",
      " 55%|#####5    | 203M/367M [00:14<00:12, 13.9MB/s]\n",
      " 56%|#####5    | 205M/367M [00:15<00:11, 14.4MB/s]\n",
      " 56%|#####6    | 207M/367M [00:15<00:11, 14.7MB/s]\n",
      " 57%|#####6    | 209M/367M [00:15<00:11, 14.7MB/s]\n",
      " 57%|#####7    | 211M/367M [00:15<00:10, 15.0MB/s]\n",
      " 58%|#####8    | 213M/367M [00:15<00:10, 14.8MB/s]\n",
      " 59%|#####8    | 215M/367M [00:15<00:10, 14.8MB/s]\n",
      " 59%|#####9    | 217M/367M [00:15<00:10, 15.0MB/s]\n",
      " 60%|#####9    | 219M/367M [00:16<00:10, 14.6MB/s]\n",
      " 60%|######    | 221M/367M [00:16<00:10, 14.8MB/s]\n",
      " 61%|######    | 223M/367M [00:16<00:10, 15.0MB/s]\n",
      " 61%|######1   | 225M/367M [00:16<00:09, 15.2MB/s]\n",
      " 62%|######1   | 227M/367M [00:16<00:09, 14.8MB/s]\n",
      " 62%|######2   | 229M/367M [00:16<00:10, 14.3MB/s]\n",
      " 63%|######2   | 231M/367M [00:16<00:09, 14.7MB/s]\n",
      " 63%|######3   | 233M/367M [00:17<00:09, 15.0MB/s]\n",
      " 64%|######4   | 235M/367M [00:17<00:09, 13.9MB/s]\n",
      " 65%|######4   | 237M/367M [00:17<00:08, 15.2MB/s]\n",
      " 65%|######5   | 239M/367M [00:17<00:09, 14.6MB/s]\n",
      " 66%|######5   | 241M/367M [00:17<00:09, 14.1MB/s]\n",
      " 66%|######6   | 243M/367M [00:17<00:10, 12.8MB/s]\n",
      " 67%|######7   | 246M/367M [00:18<00:09, 13.6MB/s]\n",
      " 68%|######7   | 248M/367M [00:18<00:08, 14.6MB/s]\n",
      " 68%|######8   | 250M/367M [00:18<00:08, 14.8MB/s]\n",
      " 69%|######8   | 252M/367M [00:18<00:08, 15.0MB/s]\n",
      " 69%|######9   | 254M/367M [00:18<00:07, 14.9MB/s]\n",
      " 70%|######9   | 256M/367M [00:18<00:07, 15.1MB/s]\n",
      " 70%|#######   | 258M/367M [00:18<00:08, 13.6MB/s]\n",
      " 71%|#######   | 260M/367M [00:19<00:09, 12.3MB/s]\n",
      " 71%|#######1  | 262M/367M [00:19<00:09, 11.7MB/s]\n",
      " 72%|#######1  | 264M/367M [00:19<00:08, 12.6MB/s]\n",
      " 72%|#######2  | 266M/367M [00:19<00:08, 13.1MB/s]\n",
      " 73%|#######3  | 268M/367M [00:19<00:07, 13.6MB/s]\n",
      " 74%|#######3  | 270M/367M [00:19<00:07, 13.4MB/s]\n",
      " 74%|#######4  | 272M/367M [00:20<00:07, 13.5MB/s]\n",
      " 75%|#######4  | 274M/367M [00:20<00:06, 14.3MB/s]\n",
      " 75%|#######5  | 276M/367M [00:20<00:06, 14.4MB/s]\n",
      " 76%|#######5  | 278M/367M [00:20<00:06, 14.5MB/s]\n",
      " 76%|#######6  | 280M/367M [00:20<00:06, 14.6MB/s]\n",
      " 77%|#######6  | 282M/367M [00:20<00:05, 15.1MB/s]\n",
      " 77%|#######7  | 284M/367M [00:20<00:05, 14.9MB/s]\n",
      " 78%|#######7  | 286M/367M [00:21<00:05, 14.3MB/s]\n",
      " 78%|#######8  | 288M/367M [00:21<00:05, 15.4MB/s]\n",
      " 79%|#######9  | 290M/367M [00:21<00:05, 15.2MB/s]\n",
      " 80%|#######9  | 292M/367M [00:21<00:05, 15.3MB/s]\n",
      " 80%|########  | 294M/367M [00:21<00:05, 14.9MB/s]\n",
      " 81%|########  | 296M/367M [00:21<00:05, 14.8MB/s]\n",
      " 81%|########1 | 298M/367M [00:21<00:05, 14.3MB/s]\n",
      " 82%|########1 | 300M/367M [00:21<00:04, 15.0MB/s]\n",
      " 82%|########2 | 302M/367M [00:22<00:04, 14.3MB/s]\n",
      " 83%|########2 | 304M/367M [00:22<00:04, 14.1MB/s]\n",
      " 83%|########3 | 306M/367M [00:22<00:04, 13.1MB/s]\n",
      " 84%|########4 | 309M/367M [00:22<00:04, 13.7MB/s]\n",
      " 85%|########4 | 311M/367M [00:22<00:03, 15.0MB/s]\n",
      " 85%|########5 | 313M/367M [00:22<00:03, 14.6MB/s]\n",
      " 86%|########5 | 315M/367M [00:23<00:03, 14.8MB/s]\n",
      " 86%|########6 | 317M/367M [00:23<00:03, 14.5MB/s]\n",
      " 87%|########6 | 319M/367M [00:23<00:03, 14.5MB/s]\n",
      " 87%|########7 | 321M/367M [00:23<00:03, 14.7MB/s]\n",
      " 88%|########8 | 323M/367M [00:23<00:03, 14.3MB/s]\n",
      " 89%|########8 | 325M/367M [00:23<00:03, 13.5MB/s]\n",
      " 89%|########9 | 327M/367M [00:23<00:02, 15.0MB/s]\n",
      " 90%|########9 | 329M/367M [00:24<00:02, 14.0MB/s]\n",
      " 90%|######### | 331M/367M [00:24<00:02, 15.1MB/s]\n",
      " 91%|######### | 333M/367M [00:24<00:02, 14.6MB/s]\n",
      " 91%|#########1| 335M/367M [00:24<00:02, 15.1MB/s]\n",
      " 92%|#########1| 337M/367M [00:24<00:02, 15.2MB/s]\n",
      " 92%|#########2| 339M/367M [00:24<00:01, 15.0MB/s]\n",
      " 93%|#########2| 341M/367M [00:24<00:01, 14.3MB/s]\n",
      " 93%|#########3| 343M/367M [00:25<00:01, 14.5MB/s]\n",
      " 94%|#########4| 345M/367M [00:25<00:01, 11.8MB/s]\n",
      " 95%|#########4| 347M/367M [00:25<00:01, 12.5MB/s]\n",
      " 95%|#########5| 349M/367M [00:25<00:01, 13.3MB/s]\n",
      " 96%|#########5| 351M/367M [00:25<00:01, 13.4MB/s]\n",
      " 96%|#########6| 353M/367M [00:25<00:01, 14.3MB/s]\n",
      " 97%|#########6| 355M/367M [00:26<00:00, 14.0MB/s]\n",
      " 97%|#########7| 357M/367M [00:26<00:00, 14.3MB/s]\n",
      " 98%|#########7| 359M/367M [00:26<00:00, 14.6MB/s]\n",
      " 98%|#########8| 361M/367M [00:26<00:00, 14.7MB/s]\n",
      " 99%|#########8| 363M/367M [00:26<00:00, 14.4MB/s]\n",
      " 99%|#########9| 365M/367M [00:26<00:00, 14.5MB/s]\n",
      "100%|##########| 367M/367M [00:26<00:00, 14.3MB/s]\n",
      "100%|##########| 367M/367M [00:26<00:00, 14.3MB/s]\n"
     ]
    },
    {
     "name": "stdout",
     "output_type": "stream",
     "text": [
      "Downloading gan-getting-started.zip to imgdata\n",
      "\n"
     ]
    }
   ],
   "source": [
    "!kaggle competitions download -c gan-getting-started -p imgdata\n",
    "with zipfile.ZipFile('./imgdata/gan-getting-started.zip', 'r') as zip_ref:\n",
    "    zip_ref.extractall('./imgdata')"
   ]
  },
  {
   "cell_type": "markdown",
   "metadata": {},
   "source": [
    "# Model Initialization\n"
   ]
  },
  {
   "cell_type": "code",
   "execution_count": null,
   "metadata": {},
   "outputs": [],
   "source": []
  },
  {
   "cell_type": "markdown",
   "metadata": {},
   "source": [
    "## Building the Discriminator"
   ]
  },
  {
   "cell_type": "code",
   "execution_count": null,
   "metadata": {},
   "outputs": [],
   "source": [
    "def Discriminator():\n",
    "\n",
    "    initializer = tf.random_normal_initializer(0., 0.02)\n",
    "    gamma_init = keras.initializers.RandomNormal(mean=0.0, stddev=0.02)\n",
    "\n",
    "    inp = layers.Input(shape=[256, 256, 3], name='input_image')\n",
    "\n",
    "    x = inp\n",
    "\n",
    "    down1 = downsample(64, 4, False)(x) # (bs, 128, 128, 64)\n",
    "    down2 = downsample(128, 4)(down1) # (bs, 64, 64, 128)\n",
    "    down3 = downsample(256, 4)(down2) # (bs, 32, 32, 256)\n",
    "\n",
    "    zero_pad1 = layers.ZeroPadding2D()(down3) # (bs, 34, 34, 256)\n",
    "    conv = layers.Conv2D(512, 4, strides=1,\n",
    "                         kernel_initializer=initializer,\n",
    "                         use_bias=False)(zero_pad1) # (bs, 31, 31, 512)\n",
    "\n",
    "    norm1 = tfa.layers.InstanceNormalization(gamma_initializer=gamma_init)(conv)\n",
    "\n",
    "    leaky_relu = layers.LeakyReLU()(norm1)\n",
    "\n",
    "    zero_pad2 = layers.ZeroPadding2D()(leaky_relu) # (bs, 33, 33, 512)\n",
    "\n",
    "    last = layers.Conv2D(1, 4, strides=1,\n",
    "                         kernel_initializer=initializer)(zero_pad2) # (bs, 30, 30, 1)\n",
    "\n",
    "    return tf.keras.Model(inputs=inp, outputs=last)"
   ]
  },
  {
   "cell_type": "code",
   "execution_count": null,
   "metadata": {},
   "outputs": [],
   "source": [
    "with strategy.scope():\n",
    "    monet_generator = Generator() # transforms photos to Monet-esque paintings\n",
    "    photo_generator = Generator() # transforms Monet paintings to be more like photos\n",
    "\n",
    "    monet_discriminator = Discriminator() # differentiates real Monet paintings and generated Monet paintings\n",
    "    photo_discriminator = Discriminator() # differentiates real photos and generated photos"
   ]
  },
  {
   "cell_type": "code",
   "execution_count": null,
   "metadata": {},
   "outputs": [],
   "source": [
    "to_monet = monet_generator(example_photo)\n",
    "\n",
    "plt.subplot(1, 2, 1)\n",
    "plt.title(\"Original Photo\")\n",
    "plt.imshow(example_photo[0] * 0.5 + 0.5)\n",
    "\n",
    "plt.subplot(1, 2, 2)\n",
    "plt.title(\"Monet-esque Photo\")\n",
    "plt.imshow(to_monet[0] * 0.5 + 0.5)\n",
    "plt.show()"
   ]
  },
  {
   "cell_type": "code",
   "execution_count": null,
   "metadata": {},
   "outputs": [],
   "source": []
  },
  {
   "cell_type": "markdown",
   "metadata": {},
   "source": [
    "## Building the CycleGAN Model"
   ]
  },
  {
   "cell_type": "code",
   "execution_count": null,
   "metadata": {},
   "outputs": [],
   "source": [
    "class CycleGan(keras.Model):\n",
    "    \n",
    "    def __init__(\n",
    "        self,\n",
    "        monet_generator,\n",
    "        photo_generator,\n",
    "        monet_discriminator,\n",
    "        photo_discriminator,\n",
    "        lambda_cycle=10,\n",
    "    ):\n",
    "        super(CycleGan, self).__init__()\n",
    "        self.m_gen = monet_generator\n",
    "        self.p_gen = photo_generator\n",
    "        self.m_disc = monet_discriminator\n",
    "        self.p_disc = photo_discriminator\n",
    "        self.lambda_cycle = lambda_cycle\n",
    "        \n",
    "    def compile(\n",
    "        self,\n",
    "        m_gen_optimizer,\n",
    "        p_gen_optimizer,\n",
    "        m_disc_optimizer,\n",
    "        p_disc_optimizer,\n",
    "        gen_loss_fn,\n",
    "        disc_loss_fn,\n",
    "        cycle_loss_fn,\n",
    "        identity_loss_fn\n",
    "    ):\n",
    "        super(CycleGan, self).compile()\n",
    "        self.m_gen_optimizer = m_gen_optimizer\n",
    "        self.p_gen_optimizer = p_gen_optimizer\n",
    "        self.m_disc_optimizer = m_disc_optimizer\n",
    "        self.p_disc_optimizer = p_disc_optimizer\n",
    "        self.gen_loss_fn = gen_loss_fn\n",
    "        self.disc_loss_fn = disc_loss_fn\n",
    "        self.cycle_loss_fn = cycle_loss_fn\n",
    "        self.identity_loss_fn = identity_loss_fn\n",
    "        \n",
    "    def train_step(self, batch_data):\n",
    "        real_monet, real_photo = batch_data\n",
    "        \n",
    "        with tf.GradientTape(persistent=True) as tape:\n",
    "            # photo to monet back to photo\n",
    "            fake_monet = self.m_gen(real_photo, training=True)\n",
    "            cycled_photo = self.p_gen(fake_monet, training=True)\n",
    "\n",
    "            # monet to photo back to monet\n",
    "            fake_photo = self.p_gen(real_monet, training=True)\n",
    "            cycled_monet = self.m_gen(fake_photo, training=True)\n",
    "\n",
    "            # generating itself\n",
    "            same_monet = self.m_gen(real_monet, training=True)\n",
    "            same_photo = self.p_gen(real_photo, training=True)\n",
    "\n",
    "            # discriminator used to check, inputing real images\n",
    "            disc_real_monet = self.m_disc(real_monet, training=True)\n",
    "            disc_real_photo = self.p_disc(real_photo, training=True)\n",
    "\n",
    "            # discriminator used to check, inputing fake images\n",
    "            disc_fake_monet = self.m_disc(fake_monet, training=True)\n",
    "            disc_fake_photo = self.p_disc(fake_photo, training=True)\n",
    "\n",
    "            # evaluates generator loss\n",
    "            monet_gen_loss = self.gen_loss_fn(disc_fake_monet)\n",
    "            photo_gen_loss = self.gen_loss_fn(disc_fake_photo)\n",
    "\n",
    "            # evaluates total cycle consistency loss\n",
    "            total_cycle_loss = self.cycle_loss_fn(real_monet, cycled_monet, self.lambda_cycle) + self.cycle_loss_fn(real_photo, cycled_photo, self.lambda_cycle)\n",
    "\n",
    "            # evaluates total generator loss\n",
    "            total_monet_gen_loss = monet_gen_loss + total_cycle_loss + self.identity_loss_fn(real_monet, same_monet, self.lambda_cycle)\n",
    "            total_photo_gen_loss = photo_gen_loss + total_cycle_loss + self.identity_loss_fn(real_photo, same_photo, self.lambda_cycle)\n",
    "\n",
    "            # evaluates discriminator loss\n",
    "            monet_disc_loss = self.disc_loss_fn(disc_real_monet, disc_fake_monet)\n",
    "            photo_disc_loss = self.disc_loss_fn(disc_real_photo, disc_fake_photo)\n",
    "\n",
    "        # Calculate the gradients for generator and discriminator\n",
    "        monet_generator_gradients = tape.gradient(total_monet_gen_loss,\n",
    "                                                  self.m_gen.trainable_variables)\n",
    "        photo_generator_gradients = tape.gradient(total_photo_gen_loss,\n",
    "                                                  self.p_gen.trainable_variables)\n",
    "\n",
    "        monet_discriminator_gradients = tape.gradient(monet_disc_loss,\n",
    "                                                      self.m_disc.trainable_variables)\n",
    "        photo_discriminator_gradients = tape.gradient(photo_disc_loss,\n",
    "                                                      self.p_disc.trainable_variables)\n",
    "\n",
    "        # Apply the gradients to the optimizer\n",
    "        self.m_gen_optimizer.apply_gradients(zip(monet_generator_gradients,\n",
    "                                                 self.m_gen.trainable_variables))\n",
    "\n",
    "        self.p_gen_optimizer.apply_gradients(zip(photo_generator_gradients,\n",
    "                                                 self.p_gen.trainable_variables))\n",
    "\n",
    "        self.m_disc_optimizer.apply_gradients(zip(monet_discriminator_gradients,\n",
    "                                                  self.m_disc.trainable_variables))\n",
    "\n",
    "        self.p_disc_optimizer.apply_gradients(zip(photo_discriminator_gradients,\n",
    "                                                  self.p_disc.trainable_variables))\n",
    "        \n",
    "        return {\n",
    "            \"monet_gen_loss\": total_monet_gen_loss,\n",
    "            \"photo_gen_loss\": total_photo_gen_loss,\n",
    "            \"monet_disc_loss\": monet_disc_loss,\n",
    "            \"photo_disc_loss\": photo_disc_loss\n",
    "        }"
   ]
  },
  {
   "cell_type": "code",
   "execution_count": null,
   "metadata": {},
   "outputs": [],
   "source": []
  },
  {
   "cell_type": "markdown",
   "metadata": {},
   "source": [
    "## Define Loss Functions"
   ]
  },
  {
   "cell_type": "code",
   "execution_count": null,
   "metadata": {},
   "outputs": [],
   "source": [
    "with strategy.scope():\n",
    "    \n",
    "    def discriminator_loss(real, generated):\n",
    "        real_loss = tf.keras.losses.BinaryCrossentropy(from_logits=True, reduction=tf.keras.losses.Reduction.NONE)(tf.ones_like(real), real)\n",
    "\n",
    "        generated_loss = tf.keras.losses.BinaryCrossentropy(from_logits=True, reduction=tf.keras.losses.Reduction.NONE)(tf.zeros_like(generated), generated)\n",
    "\n",
    "        total_disc_loss = real_loss + generated_loss\n",
    "\n",
    "        return total_disc_loss * 0.5"
   ]
  },
  {
   "cell_type": "code",
   "execution_count": null,
   "metadata": {},
   "outputs": [],
   "source": [
    "with strategy.scope():\n",
    "    \n",
    "    def generator_loss(generated):\n",
    "        return tf.keras.losses.BinaryCrossentropy(from_logits=True, \n",
    "                                    reduction=tf.keras.losses.Reduction.NONE)(tf.ones_like(generated),generated)"
   ]
  },
  {
   "cell_type": "code",
   "execution_count": null,
   "metadata": {},
   "outputs": [],
   "source": [
    "#We want our original photo and the twice transformed photo to be similar to one another. \n",
    "#Thus, we can calculate the cycle consistency loss be finding the average of their difference.\n",
    "\n",
    "with strategy.scope():\n",
    "    \n",
    "    def calc_cycle_loss(real_image, cycled_image, LAMBDA):\n",
    "        loss1 = tf.reduce_mean(tf.abs(real_image - cycled_image))\n",
    "\n",
    "        return LAMBDA * loss1"
   ]
  },
  {
   "cell_type": "code",
   "execution_count": null,
   "metadata": {},
   "outputs": [],
   "source": [
    "with strategy.scope():\n",
    "    \n",
    "    def identity_loss(real_image, same_image, LAMBDA):\n",
    "        loss = tf.reduce_mean(tf.abs(real_image - same_image))\n",
    "        return LAMBDA * 0.5 * loss"
   ]
  },
  {
   "cell_type": "code",
   "execution_count": null,
   "metadata": {},
   "outputs": [],
   "source": []
  },
  {
   "cell_type": "markdown",
   "metadata": {},
   "source": [
    "## Train the CycleGAN"
   ]
  },
  {
   "cell_type": "code",
   "execution_count": null,
   "metadata": {},
   "outputs": [],
   "source": []
  },
  {
   "cell_type": "code",
   "execution_count": null,
   "metadata": {},
   "outputs": [],
   "source": []
  },
  {
   "cell_type": "code",
   "execution_count": null,
   "metadata": {},
   "outputs": [],
   "source": []
  },
  {
   "cell_type": "markdown",
   "metadata": {},
   "source": [
    "# Model Training\n"
   ]
  },
  {
   "cell_type": "code",
   "execution_count": null,
   "metadata": {},
   "outputs": [],
   "source": []
  },
  {
   "cell_type": "code",
   "execution_count": null,
   "metadata": {},
   "outputs": [],
   "source": []
  },
  {
   "cell_type": "code",
   "execution_count": null,
   "metadata": {},
   "outputs": [],
   "source": []
  },
  {
   "cell_type": "code",
   "execution_count": null,
   "metadata": {},
   "outputs": [],
   "source": []
  },
  {
   "cell_type": "code",
   "execution_count": null,
   "metadata": {},
   "outputs": [],
   "source": []
  },
  {
   "cell_type": "code",
   "execution_count": null,
   "metadata": {},
   "outputs": [],
   "source": []
  },
  {
   "cell_type": "code",
   "execution_count": null,
   "metadata": {},
   "outputs": [],
   "source": []
  },
  {
   "cell_type": "markdown",
   "metadata": {},
   "source": [
    "# Results"
   ]
  },
  {
   "cell_type": "code",
   "execution_count": 5,
   "metadata": {},
   "outputs": [
    {
     "data": {
      "image/png": "[encoded data removed]",
      "text/plain": [
       "<Figure size 432x288 with 1 Axes>"
      ]
     },
     "metadata": {
      "needs_background": "light"
     },
     "output_type": "display_data"
    }
   ],
   "source": [
    "import matplotlib.pyplot as plt\n",
    "\n",
    "\n",
    "plt.plot([1 ,2 , 3], [1, 2, 3])\n",
    "plt.show()"
   ]
  }
 ],
 "metadata": {
  "kernelspec": {
   "display_name": "Python 3",
   "language": "python",
   "name": "python3"
  },
  "language_info": {
   "codemirror_mode": {
    "name": "ipython",
    "version": 3
   },
   "file_extension": ".py",
   "mimetype": "text/x-python",
   "name": "python",
   "nbconvert_exporter": "python",
   "pygments_lexer": "ipython3",
   "version": "3.8.5"
  }
 },
 "nbformat": 4,
 "nbformat_minor": 2
}
